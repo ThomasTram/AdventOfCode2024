{
 "cells": [
  {
   "cell_type": "code",
   "execution_count": 1,
   "id": "901d8afd-8af1-4f90-b3fd-51c6dafc15e5",
   "metadata": {},
   "outputs": [
    {
     "name": "stdout",
     "output_type": "stream",
     "text": [
      "1834060\n",
      "21607792\n"
     ]
    }
   ],
   "source": [
    "# Day 1\n",
    "# Part one\n",
    "import numpy as np\n",
    "data = np.loadtxt('day1.txt', dtype=int)\n",
    "for j in range(2):\n",
    "    data[:,j] = sorted(data[:,j])\n",
    "print(np.sum(np.abs(data[:,1] - data[:,0])))\n",
    "\n",
    "# Part two\n",
    "from collections import defaultdict\n",
    "numbers, counts = np.unique(data[:,1], return_counts=True)\n",
    "look_up_dict = defaultdict(int)\n",
    "look_up_dict.update({number:count for number, count in zip(numbers, counts)})\n",
    "print(sum(d*look_up_dict[d] for d in data[:,0]))"
   ]
  },
  {
   "cell_type": "code",
   "execution_count": 2,
   "id": "740030b0-8cd0-480d-b7c2-9492f5bc2609",
   "metadata": {},
   "outputs": [
    {
     "name": "stdout",
     "output_type": "stream",
     "text": [
      "359\n",
      "418\n"
     ]
    }
   ],
   "source": [
    "# Day 2\n",
    "# Part one\n",
    "with open('day2.txt', 'r') as fid:\n",
    "    data = [[int(d) for d in line.split()] for line in fid.read().strip().split('\\n')]\n",
    "\n",
    "import numpy as np\n",
    "def is_safe(some_list):\n",
    "    if len(some_list) < 1:\n",
    "        return True\n",
    "    current_sign = np.sign(some_list[1] - some_list[0])\n",
    "    if current_sign == 0:\n",
    "        return False\n",
    "    for j in range(1, len(some_list)):\n",
    "        diff = some_list[j] - some_list[j - 1]\n",
    "        if np.sign(diff) != current_sign or abs(diff) > 3:\n",
    "            return False\n",
    "    return True\n",
    "\n",
    "print(sum(is_safe(l) for l in data))\n",
    "\n",
    "#Part two\n",
    "def is_safe_when_removing_one(some_list):\n",
    "    if is_safe(some_list) == True:\n",
    "        return True\n",
    "    for j in range(len(some_list)):\n",
    "        test_list = some_list[:j] + some_list[(j + 1):]\n",
    "        if is_safe(test_list) == True:\n",
    "            return True\n",
    "    return False\n",
    "print(sum(is_safe_when_removing_one(l) for l in data))"
   ]
  },
  {
   "cell_type": "code",
   "execution_count": null,
   "id": "966a49b2-2544-4909-97b7-7f59fe929049",
   "metadata": {},
   "outputs": [],
   "source": []
  }
 ],
 "metadata": {
  "kernelspec": {
   "display_name": "Python 3 (ipykernel)",
   "language": "python",
   "name": "python3"
  },
  "language_info": {
   "codemirror_mode": {
    "name": "ipython",
    "version": 3
   },
   "file_extension": ".py",
   "mimetype": "text/x-python",
   "name": "python",
   "nbconvert_exporter": "python",
   "pygments_lexer": "ipython3",
   "version": "3.12.4"
  }
 },
 "nbformat": 4,
 "nbformat_minor": 5
}
