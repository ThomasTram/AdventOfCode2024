{
 "cells": [
  {
   "cell_type": "code",
   "execution_count": 1,
   "id": "901d8afd-8af1-4f90-b3fd-51c6dafc15e5",
   "metadata": {},
   "outputs": [
    {
     "name": "stdout",
     "output_type": "stream",
     "text": [
      "1834060\n",
      "21607792\n"
     ]
    }
   ],
   "source": [
    "# Day 1\n",
    "# Part one\n",
    "import numpy as np\n",
    "data = np.loadtxt('day1.txt', dtype=int)\n",
    "for j in range(2):\n",
    "    data[:,j] = sorted(data[:,j])\n",
    "print(np.sum(np.abs(data[:,1] - data[:,0])))\n",
    "\n",
    "# Part two\n",
    "from collections import defaultdict\n",
    "numbers, counts = np.unique(data[:,1], return_counts=True)\n",
    "look_up_dict = defaultdict(int)\n",
    "look_up_dict.update({number:count for number, count in zip(numbers, counts)})\n",
    "print(sum(d*look_up_dict[d] for d in data[:,0]))"
   ]
  },
  {
   "cell_type": "code",
   "execution_count": 2,
   "id": "740030b0-8cd0-480d-b7c2-9492f5bc2609",
   "metadata": {},
   "outputs": [
    {
     "name": "stdout",
     "output_type": "stream",
     "text": [
      "359\n",
      "418\n"
     ]
    }
   ],
   "source": [
    "# Day 2\n",
    "# Part one\n",
    "with open('day2.txt', 'r') as fid:\n",
    "    data = [[int(d) for d in line.split()] for line in fid.read().strip().split('\\n')]\n",
    "\n",
    "import numpy as np\n",
    "def is_safe(some_list):\n",
    "    if len(some_list) < 1:\n",
    "        return True\n",
    "    current_sign = np.sign(some_list[1] - some_list[0])\n",
    "    if current_sign == 0:\n",
    "        return False\n",
    "    for j in range(1, len(some_list)):\n",
    "        diff = some_list[j] - some_list[j - 1]\n",
    "        if np.sign(diff) != current_sign or abs(diff) > 3:\n",
    "            return False\n",
    "    return True\n",
    "\n",
    "print(sum(is_safe(l) for l in data))\n",
    "\n",
    "#Part two\n",
    "def is_safe_when_removing_one(some_list):\n",
    "    if is_safe(some_list) == True:\n",
    "        return True\n",
    "    for j in range(len(some_list)):\n",
    "        test_list = some_list[:j] + some_list[(j + 1):]\n",
    "        if is_safe(test_list) == True:\n",
    "            return True\n",
    "    return False\n",
    "print(sum(is_safe_when_removing_one(l) for l in data))"
   ]
  },
  {
   "cell_type": "code",
   "execution_count": 3,
   "id": "966a49b2-2544-4909-97b7-7f59fe929049",
   "metadata": {},
   "outputs": [
    {
     "name": "stdout",
     "output_type": "stream",
     "text": [
      "196826776\n",
      "106780429\n"
     ]
    }
   ],
   "source": [
    "# Day 3\n",
    "# Part one\n",
    "with open('day3.txt') as fid:\n",
    "    data = fid.read().strip()\n",
    "import re\n",
    "pattern = r\"\\(\\d{1,3},\\d{1,3}\\)\"\n",
    "matches = re.findall(r\"mul\\(\\d{1,3},\\d{1,3}\\)\", data)\n",
    "s = 0\n",
    "for m in matches:\n",
    "    left, rght = m[4:-1].split(',')\n",
    "    s += int(left)*int(rght)\n",
    "print(s)\n",
    "\n",
    "# Part two\n",
    "s = 0\n",
    "keywords = [r\"don't()\", r\"do()\"]\n",
    "index_keyword = 0\n",
    "while data:\n",
    "    index = data.find(keywords[index_keyword])\n",
    "    index_keyword = (index_keyword + 1) % 2\n",
    "    substring, data = data[:index], data[(index + 4):]\n",
    "    if index_keyword == 1:\n",
    "        matches = re.findall(r\"mul\\(\\d{1,3},\\d{1,3}\\)\", substring)\n",
    "        for m in matches:\n",
    "            left, rght = m[4:-1].split(',')\n",
    "            s += int(left)*int(rght)\n",
    "    if index == -1:\n",
    "        break\n",
    "print(s)\n",
    "    \n",
    "    \n",
    "    "
   ]
  },
  {
   "cell_type": "code",
   "execution_count": 4,
   "id": "6670a36a-0888-431a-b65a-7e8446a585bc",
   "metadata": {},
   "outputs": [
    {
     "name": "stdout",
     "output_type": "stream",
     "text": [
      "2603\n",
      "1965\n"
     ]
    }
   ],
   "source": [
    "# Day 3\n",
    "# Part one\n",
    "with open('day4.txt') as fid:\n",
    "    lines = fid.read().strip().split('\\n')\n",
    "\n",
    "\n",
    "XMAS = [set(), set(), set(), set()]\n",
    "for row, line in enumerate(lines):\n",
    "    for col, c in enumerate(line):\n",
    "        for index, c_test in enumerate('XMAS'):\n",
    "            if c == c_test:\n",
    "                XMAS[index].add((row, col))\n",
    "\n",
    "def is_XMAS_in_direction_from_pos(pos, dir):\n",
    "    for j in range(1, 4):\n",
    "        next_pos = (pos[0] + j*dir[0], pos[1] + j*dir[1])\n",
    "        if next_pos not in XMAS[j]:\n",
    "            return False\n",
    "    return True\n",
    "\n",
    "all_dir = [(row, col) for row in range(-1, 2) for col in range(-1, 2)]\n",
    "s = 0\n",
    "for X_pos in XMAS[0]:\n",
    "    for dir in all_dir:\n",
    "        s += is_XMAS_in_direction_from_pos(X_pos, dir)\n",
    "print(s)\n",
    "\n",
    "# Part two\n",
    "def is_MAS(A_pos, dir):\n",
    "    pos1 = (A_pos[0] + dir[0], A_pos[1] + dir[1])\n",
    "    pos2 = (A_pos[0] - dir[0], A_pos[1] - dir[1])\n",
    "    if pos1 in XMAS[1] and pos2 in XMAS[3]:\n",
    "        return True\n",
    "    if pos1 in XMAS[3] and pos2 in XMAS[1]:\n",
    "        return True\n",
    "    return False\n",
    "\n",
    "print(sum(is_MAS(A_pos, (1, 1)) and is_MAS(A_pos, (1, -1)) for A_pos in XMAS[2]))\n"
   ]
  },
  {
   "cell_type": "code",
   "execution_count": 5,
   "id": "b1d8c589-34f9-4a9d-a62e-52d6ae4b03c4",
   "metadata": {},
   "outputs": [
    {
     "name": "stdout",
     "output_type": "stream",
     "text": [
      "5108\n",
      "7380\n"
     ]
    }
   ],
   "source": [
    "# Day 5\n",
    "# Part one\n",
    "from collections import defaultdict\n",
    "with open('day5.txt') as fid:\n",
    "    rules, updates = fid.read().strip().split('\\n\\n')\n",
    "must_not_include = defaultdict(set)\n",
    "for rule in rules.split('\\n'):\n",
    "    left, rght = rule.split('|')\n",
    "    must_not_include[int(left)].add(int(rght))\n",
    "\n",
    "list_of_updates = [[int(pagenum) for pagenum in upd.split(',')] for upd in updates.split('\\n')]\n",
    "\n",
    "def check_update(update):\n",
    "    for index, page in enumerate(update):\n",
    "        for prev_page in update[:index]:\n",
    "            if prev_page in must_not_include[page]:\n",
    "                return False\n",
    "    return True\n",
    "s = 0\n",
    "for update in list_of_updates:\n",
    "    if check_update(update):\n",
    "        s += update[len(update)//2]\n",
    "print(s)\n",
    "\n",
    "# Part two\n",
    "def page_rank(update):\n",
    "    ranks = [len(update) - 1]*len(update)\n",
    "    for index1, page1 in enumerate(update):\n",
    "        for index2, page2 in enumerate(update):\n",
    "            if index1 == index2:\n",
    "                continue\n",
    "            if page2 in must_not_include[page1]:\n",
    "                ranks[index1] -= 1\n",
    "    index_middle_after_sorting = ranks.index(len(update)//2)\n",
    "    return update[index_middle_after_sorting]\n",
    "\n",
    "s = 0\n",
    "for update in list_of_updates:\n",
    "    if not check_update(update):\n",
    "        s += page_rank(update)\n",
    "print(s)"
   ]
  },
  {
   "cell_type": "code",
   "execution_count": null,
   "id": "38ac4c16-6dad-4e2d-b594-d5e7db03c4c8",
   "metadata": {},
   "outputs": [],
   "source": []
  }
 ],
 "metadata": {
  "kernelspec": {
   "display_name": "Python 3 (ipykernel)",
   "language": "python",
   "name": "python3"
  },
  "language_info": {
   "codemirror_mode": {
    "name": "ipython",
    "version": 3
   },
   "file_extension": ".py",
   "mimetype": "text/x-python",
   "name": "python",
   "nbconvert_exporter": "python",
   "pygments_lexer": "ipython3",
   "version": "3.12.4"
  }
 },
 "nbformat": 4,
 "nbformat_minor": 5
}
