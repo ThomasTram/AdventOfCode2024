{
 "cells": [
  {
   "cell_type": "code",
   "execution_count": 1,
   "id": "901d8afd-8af1-4f90-b3fd-51c6dafc15e5",
   "metadata": {},
   "outputs": [
    {
     "name": "stdout",
     "output_type": "stream",
     "text": [
      "1834060\n",
      "21607792\n"
     ]
    }
   ],
   "source": [
    "# Day 1\n",
    "# Part one\n",
    "import numpy as np\n",
    "data = np.loadtxt('day1.txt', dtype=int)\n",
    "for j in range(2):\n",
    "    data[:,j] = sorted(data[:,j])\n",
    "print(np.sum(np.abs(data[:,1] - data[:,0])))\n",
    "\n",
    "# Part two\n",
    "from collections import defaultdict\n",
    "numbers, counts = np.unique(data[:,1], return_counts=True)\n",
    "look_up_dict = defaultdict(int)\n",
    "look_up_dict.update({number:count for number, count in zip(numbers, counts)})\n",
    "print(sum(d*look_up_dict[d] for d in data[:,0]))"
   ]
  },
  {
   "cell_type": "code",
   "execution_count": 2,
   "id": "740030b0-8cd0-480d-b7c2-9492f5bc2609",
   "metadata": {},
   "outputs": [
    {
     "name": "stdout",
     "output_type": "stream",
     "text": [
      "359\n",
      "418\n"
     ]
    }
   ],
   "source": [
    "# Day 2\n",
    "# Part one\n",
    "with open('day2.txt', 'r') as fid:\n",
    "    data = [[int(d) for d in line.split()] for line in fid.read().strip().split('\\n')]\n",
    "\n",
    "import numpy as np\n",
    "def is_safe(some_list):\n",
    "    if len(some_list) < 1:\n",
    "        return True\n",
    "    current_sign = np.sign(some_list[1] - some_list[0])\n",
    "    if current_sign == 0:\n",
    "        return False\n",
    "    for j in range(1, len(some_list)):\n",
    "        diff = some_list[j] - some_list[j - 1]\n",
    "        if np.sign(diff) != current_sign or abs(diff) > 3:\n",
    "            return False\n",
    "    return True\n",
    "\n",
    "print(sum(is_safe(l) for l in data))\n",
    "\n",
    "#Part two\n",
    "def is_safe_when_removing_one(some_list):\n",
    "    if is_safe(some_list) == True:\n",
    "        return True\n",
    "    for j in range(len(some_list)):\n",
    "        test_list = some_list[:j] + some_list[(j + 1):]\n",
    "        if is_safe(test_list) == True:\n",
    "            return True\n",
    "    return False\n",
    "print(sum(is_safe_when_removing_one(l) for l in data))"
   ]
  },
  {
   "cell_type": "code",
   "execution_count": 3,
   "id": "966a49b2-2544-4909-97b7-7f59fe929049",
   "metadata": {},
   "outputs": [
    {
     "name": "stdout",
     "output_type": "stream",
     "text": [
      "196826776\n",
      "106780429\n"
     ]
    }
   ],
   "source": [
    "# Day 3\n",
    "# Part one\n",
    "with open('day3.txt') as fid:\n",
    "    data = fid.read().strip()\n",
    "import re\n",
    "pattern = r\"\\(\\d{1,3},\\d{1,3}\\)\"\n",
    "matches = re.findall(r\"mul\\(\\d{1,3},\\d{1,3}\\)\", data)\n",
    "s = 0\n",
    "for m in matches:\n",
    "    left, rght = m[4:-1].split(',')\n",
    "    s += int(left)*int(rght)\n",
    "print(s)\n",
    "\n",
    "# Part two\n",
    "s = 0\n",
    "keywords = [r\"don't()\", r\"do()\"]\n",
    "index_keyword = 0\n",
    "while data:\n",
    "    index = data.find(keywords[index_keyword])\n",
    "    index_keyword = (index_keyword + 1) % 2\n",
    "    substring, data = data[:index], data[(index + 4):]\n",
    "    if index_keyword == 1:\n",
    "        matches = re.findall(r\"mul\\(\\d{1,3},\\d{1,3}\\)\", substring)\n",
    "        for m in matches:\n",
    "            left, rght = m[4:-1].split(',')\n",
    "            s += int(left)*int(rght)\n",
    "    if index == -1:\n",
    "        break\n",
    "print(s)\n",
    "    \n",
    "    \n",
    "    "
   ]
  },
  {
   "cell_type": "code",
   "execution_count": 4,
   "id": "6670a36a-0888-431a-b65a-7e8446a585bc",
   "metadata": {},
   "outputs": [
    {
     "name": "stdout",
     "output_type": "stream",
     "text": [
      "2603\n",
      "1965\n"
     ]
    }
   ],
   "source": [
    "# Day 3\n",
    "# Part one\n",
    "with open('day4.txt') as fid:\n",
    "    lines = fid.read().strip().split('\\n')\n",
    "\n",
    "\n",
    "XMAS = [set(), set(), set(), set()]\n",
    "for row, line in enumerate(lines):\n",
    "    for col, c in enumerate(line):\n",
    "        for index, c_test in enumerate('XMAS'):\n",
    "            if c == c_test:\n",
    "                XMAS[index].add((row, col))\n",
    "\n",
    "def is_XMAS_in_direction_from_pos(pos, dir):\n",
    "    for j in range(1, 4):\n",
    "        next_pos = (pos[0] + j*dir[0], pos[1] + j*dir[1])\n",
    "        if next_pos not in XMAS[j]:\n",
    "            return False\n",
    "    return True\n",
    "\n",
    "all_dir = [(row, col) for row in range(-1, 2) for col in range(-1, 2)]\n",
    "s = 0\n",
    "for X_pos in XMAS[0]:\n",
    "    for dir in all_dir:\n",
    "        s += is_XMAS_in_direction_from_pos(X_pos, dir)\n",
    "print(s)\n",
    "\n",
    "# Part two\n",
    "def is_MAS(A_pos, dir):\n",
    "    pos1 = (A_pos[0] + dir[0], A_pos[1] + dir[1])\n",
    "    pos2 = (A_pos[0] - dir[0], A_pos[1] - dir[1])\n",
    "    if pos1 in XMAS[1] and pos2 in XMAS[3]:\n",
    "        return True\n",
    "    if pos1 in XMAS[3] and pos2 in XMAS[1]:\n",
    "        return True\n",
    "    return False\n",
    "\n",
    "print(sum(is_MAS(A_pos, (1, 1)) and is_MAS(A_pos, (1, -1)) for A_pos in XMAS[2]))\n"
   ]
  },
  {
   "cell_type": "code",
   "execution_count": 5,
   "id": "b1d8c589-34f9-4a9d-a62e-52d6ae4b03c4",
   "metadata": {},
   "outputs": [
    {
     "name": "stdout",
     "output_type": "stream",
     "text": [
      "5108\n",
      "7380\n"
     ]
    }
   ],
   "source": [
    "# Day 5\n",
    "# Part one\n",
    "from collections import defaultdict\n",
    "with open('day5.txt') as fid:\n",
    "    rules, updates = fid.read().strip().split('\\n\\n')\n",
    "must_not_include = defaultdict(set)\n",
    "for rule in rules.split('\\n'):\n",
    "    left, rght = rule.split('|')\n",
    "    must_not_include[int(left)].add(int(rght))\n",
    "\n",
    "list_of_updates = [[int(pagenum) for pagenum in upd.split(',')] for upd in updates.split('\\n')]\n",
    "\n",
    "def check_update(update):\n",
    "    for index, page in enumerate(update):\n",
    "        for prev_page in update[:index]:\n",
    "            if prev_page in must_not_include[page]:\n",
    "                return False\n",
    "    return True\n",
    "s = 0\n",
    "for update in list_of_updates:\n",
    "    if check_update(update):\n",
    "        s += update[len(update)//2]\n",
    "print(s)\n",
    "\n",
    "# Part two\n",
    "def page_rank(update):\n",
    "    ranks = [len(update) - 1]*len(update)\n",
    "    for index1, page1 in enumerate(update):\n",
    "        for index2, page2 in enumerate(update):\n",
    "            if index1 == index2:\n",
    "                continue\n",
    "            if page2 in must_not_include[page1]:\n",
    "                ranks[index1] -= 1\n",
    "    index_middle_after_sorting = ranks.index(len(update)//2)\n",
    "    return update[index_middle_after_sorting]\n",
    "\n",
    "s = 0\n",
    "for update in list_of_updates:\n",
    "    if not check_update(update):\n",
    "        s += page_rank(update)\n",
    "print(s)"
   ]
  },
  {
   "cell_type": "code",
   "execution_count": 6,
   "id": "38ac4c16-6dad-4e2d-b594-d5e7db03c4c8",
   "metadata": {},
   "outputs": [
    {
     "name": "stdout",
     "output_type": "stream",
     "text": [
      "5269\n",
      "1957\n"
     ]
    }
   ],
   "source": [
    "# Day 6\n",
    "# Part one\n",
    "obstacles = set()\n",
    "with open('day6.txt','r') as fid:\n",
    "    lines = fid.read().strip().split('\\n')\n",
    "    Ncol, Nrow = len(lines[0]), len(lines)\n",
    "    for row, line in enumerate(lines):\n",
    "        for col, c in enumerate(line):\n",
    "            if c == '^':\n",
    "                guardpos_data = (row, col)\n",
    "            elif c == '#':\n",
    "                obstacles.add((row, col))\n",
    "\n",
    "directions = [(-1, 0), (0, 1), (1, 0), (0, -1)]\n",
    "\n",
    "dir_index = 0\n",
    "guardpos = guardpos_data\n",
    "visited = {guardpos}\n",
    "while True:\n",
    "    nextpos = (guardpos[0] + directions[dir_index][0], guardpos[1] + directions[dir_index][1])\n",
    "    if not (0 <= nextpos[0] < Nrow and 0 <= nextpos[1] < Ncol):\n",
    "        break\n",
    "    if nextpos in obstacles:\n",
    "        dir_index = (dir_index + 1) % 4\n",
    "        continue\n",
    "    guardpos = nextpos\n",
    "    visited.add(guardpos)\n",
    "print(len(visited))\n",
    "\n",
    "# Part two\n",
    "def loop_detect(new_obstacle):\n",
    "    new_obstacles = {o for o in obstacles}\n",
    "    new_obstacles.add(new_obstacle)\n",
    "    dir_index = 0\n",
    "    guardpos = guardpos_data\n",
    "    exclude = {(guardpos[0], guardpos[1], dir_index)}\n",
    "    while True:\n",
    "        nextpos = (guardpos[0] + directions[dir_index][0], guardpos[1] + directions[dir_index][1])\n",
    "        if not (0 <= nextpos[0] < Nrow and 0 <= nextpos[1] < Ncol):\n",
    "            return False\n",
    "        if nextpos in new_obstacles:\n",
    "            dir_index = (dir_index + 1) % 4\n",
    "            continue\n",
    "        guardpos = nextpos\n",
    "        elem = (guardpos[0], guardpos[1], dir_index)\n",
    "        if elem in exclude:\n",
    "            # Loop detected!\n",
    "            return True\n",
    "        else:\n",
    "            exclude.add(elem)\n",
    "\n",
    "s = sum(loop_detect(v) for v in visited)\n",
    "print(s)"
   ]
  },
  {
   "cell_type": "code",
   "execution_count": 7,
   "id": "47327c57-8c66-45e9-96f7-a2068d699892",
   "metadata": {},
   "outputs": [
    {
     "name": "stdout",
     "output_type": "stream",
     "text": [
      "4555081946288\n",
      "227921760109726\n"
     ]
    }
   ],
   "source": [
    "# Day 7\n",
    "# Part one\n",
    "from collections import deque\n",
    "with open('day7.txt','r') as fid:\n",
    "    lines = fid.read().strip().split('\\n')\n",
    "data = []\n",
    "for line in lines:\n",
    "    res, q = line.split(':')\n",
    "    data.append((int(res), deque([int(v) for v in q.strip().split()])))\n",
    "def evaluate(result, current, remaining):\n",
    "    if current > result:\n",
    "        return 0\n",
    "    if len(remaining) == 0:\n",
    "        if current == result:\n",
    "            return 1\n",
    "        else:\n",
    "            return 0\n",
    "    rhs = remaining.popleft()\n",
    "    plusval = evaluate(result, current + rhs, remaining.copy())\n",
    "    prodval = evaluate(result, current * rhs, remaining.copy())\n",
    "    return plusval + prodval\n",
    "\n",
    "s = 0\n",
    "for result, ops in data:\n",
    "    tmp = ops.copy()\n",
    "    lhs = tmp.popleft()\n",
    "    n = evaluate(result, lhs, tmp)\n",
    "    if n > 0:\n",
    "        s += result\n",
    "print(s)\n",
    "\n",
    "# Part two\n",
    "def evaluate(result, current, remaining):\n",
    "    if current > result:\n",
    "        return 0\n",
    "    if len(remaining) == 0:\n",
    "        if current == result:\n",
    "            return 1\n",
    "        else:\n",
    "            return 0\n",
    "    rhs = remaining.popleft()\n",
    "    plusval = evaluate(result, current + rhs, remaining.copy())\n",
    "    prodval = evaluate(result, current * rhs, remaining.copy())\n",
    "    concval = evaluate(result, int(str(current) + str(rhs)), remaining.copy())\n",
    "    return plusval + prodval + concval\n",
    "\n",
    "s = 0\n",
    "for result, ops in data:\n",
    "    tmp = ops.copy()\n",
    "    lhs = tmp.popleft()\n",
    "    n = evaluate(result, lhs, tmp)\n",
    "    if n > 0:\n",
    "        s += result\n",
    "print(s)"
   ]
  },
  {
   "cell_type": "code",
   "execution_count": 8,
   "id": "b2c0fc00-6cb7-41fa-a0fd-ad5bef008243",
   "metadata": {},
   "outputs": [
    {
     "name": "stdout",
     "output_type": "stream",
     "text": [
      "400\n",
      "1280\n"
     ]
    }
   ],
   "source": [
    "# Day 8\n",
    "# Part one\n",
    "from collections import defaultdict\n",
    "antenna_positions = defaultdict(list)\n",
    "with open('day8.txt', 'r') as fid:\n",
    "    lines = fid.read().strip().split('\\n')\n",
    "    Ncol, Nrow = len(lines[0]), len(lines)\n",
    "    for row, line in enumerate(lines):\n",
    "        for col, c in enumerate(line):\n",
    "            if c != '.' and c != '#':\n",
    "                antenna_positions[c].append((row, col))\n",
    "\n",
    "def get_antinode_positions(ant_list):\n",
    "    for index, l1 in enumerate(ant_list):\n",
    "        for index2 in range(index + 1, len(ant_list)):\n",
    "            l2 = ant_list[index2]\n",
    "            dif = (l2[0] - l1[0], l2[1] - l1[1])\n",
    "            pos1 = (l1[0] - dif[0], l1[1] - dif[1])\n",
    "            pos2 = (l2[0] + dif[0], l2[1] + dif[1])\n",
    "            for pos in [pos1, pos2]:\n",
    "                if 0 <= pos[0] < Nrow and 0 <= pos[1] < Ncol:\n",
    "                    antinode_positions.add(pos)\n",
    "\n",
    "antinode_positions = set()\n",
    "for antid, antennas in antenna_positions.items():\n",
    "    get_antinode_positions(antennas)\n",
    "print(len(antinode_positions))\n",
    "\n",
    "def get_antinode_positions(ant_list):\n",
    "    for index, l1 in enumerate(ant_list):\n",
    "        for index2 in range(index + 1, len(ant_list)):\n",
    "            l2 = ant_list[index2]\n",
    "            dif = (l2[0] - l1[0], l2[1] - l1[1])\n",
    "            index = 0\n",
    "            while True:\n",
    "                pos1 = (l1[0] - index*dif[0], l1[1] - index*dif[1])\n",
    "                if 0 <= pos1[0] < Nrow and 0 <= pos1[1] < Ncol:\n",
    "                    antinode_positions.add(pos1)\n",
    "                else:\n",
    "                    break\n",
    "                index += 1\n",
    "            index = 0\n",
    "            while True:\n",
    "                pos2 = (l2[0] + index*dif[0], l2[1] + index*dif[1])\n",
    "                if 0 <= pos2[0] < Nrow and 0 <= pos2[1] < Ncol:\n",
    "                    antinode_positions.add(pos2)\n",
    "                else:\n",
    "                    break\n",
    "                index += 1\n",
    "\n",
    "antinode_positions = set()\n",
    "for antid, antennas in antenna_positions.items():\n",
    "    get_antinode_positions(antennas)\n",
    "print(len(antinode_positions))"
   ]
  },
  {
   "cell_type": "code",
   "execution_count": 9,
   "id": "e351f6a6-95cc-4990-b4e9-23d3864f7beb",
   "metadata": {},
   "outputs": [
    {
     "name": "stdout",
     "output_type": "stream",
     "text": [
      "6366665108136\n",
      "6398065450842\n"
     ]
    }
   ],
   "source": [
    "# Day 9\n",
    "# Part one\n",
    "\n",
    "with open('day9.txt', 'r') as fid:\n",
    "    data = fid.read().strip()\n",
    "\n",
    "backdatapointer = len(data) - 1\n",
    "backdatapointer -= (backdatapointer % 2)\n",
    "datapointer = 0\n",
    "intdata = list(map(int, data))\n",
    "N_data_sectors = sum(intdata[0::2])\n",
    "s = 0\n",
    "for sector in range(N_data_sectors):\n",
    "    while intdata[datapointer] == 0:\n",
    "        datapointer += 1\n",
    "    if datapointer % 2:\n",
    "        # Uneven\n",
    "        j = 0\n",
    "        while intdata[backdatapointer] == 0:\n",
    "            backdatapointer -= 2\n",
    "        fileID = backdatapointer // 2\n",
    "        intdata[backdatapointer] -= 1\n",
    "    else:\n",
    "        # Even:\n",
    "        fileID = datapointer // 2\n",
    "    s += sector*fileID\n",
    "    intdata[datapointer] -= 1\n",
    "print(s)\n",
    "\n",
    "# Part two\n",
    "intdata = list(map(int, data))\n",
    "sector_pos = 0\n",
    "freespace = []\n",
    "dataspace = []\n",
    "for index, sector_length in enumerate(intdata):\n",
    "    if index % 2:\n",
    "        # Uneven, freespace:\n",
    "        freespace.append((sector_pos, sector_length))\n",
    "    else:\n",
    "        # Even, dataspace:\n",
    "        dataspace.append((sector_pos, sector_length, index // 2))\n",
    "    sector_pos += sector_length\n",
    "\n",
    "for j in range(len(dataspace) - 1, -1, -1):\n",
    "    file_pos, file_length, file_ID = dataspace[j]\n",
    "    for freespace_ID in range(len(freespace)):\n",
    "        free_pos, free_length = freespace[freespace_ID]\n",
    "        if file_pos < free_pos:\n",
    "            break\n",
    "        if file_length <= free_length:\n",
    "            dataspace[j] = (free_pos, file_length, file_ID)\n",
    "            freespace[freespace_ID] = (free_pos + file_length, free_length - file_length)\n",
    "            break\n",
    "\n",
    "s = sum(file_ID*L*(pos + (pos + L - 1))//2 for pos, L, file_ID in dataspace)\n",
    "print(s)"
   ]
  },
  {
   "cell_type": "code",
   "execution_count": 10,
   "id": "b178d05d-31ff-4d11-9fe7-828f7a8a2d69",
   "metadata": {},
   "outputs": [
    {
     "name": "stdout",
     "output_type": "stream",
     "text": [
      "811\n",
      "1794\n"
     ]
    }
   ],
   "source": [
    "# Day 10\n",
    "# Part one\n",
    "\n",
    "allpos = [set() for j in range(10)]\n",
    "with open('day10.txt', 'r') as fid:\n",
    "    lines = fid.read().strip().split('\\n')\n",
    "    Ncol, Nrow = len(lines[0]), len(lines)\n",
    "    for row, line in enumerate(lines):\n",
    "        for col, num in enumerate(map(int, line)):\n",
    "            allpos[num].add((row, col))\n",
    "\n",
    "\n",
    "def explore(current_pos, last_value):\n",
    "    if current_pos not in allpos[last_value + 1]:\n",
    "        return set()\n",
    "    current_value = last_value + 1\n",
    "    if current_value == 9:\n",
    "        # Summit reached!\n",
    "        return {current_pos}\n",
    "    summit_pos = set()\n",
    "    for dir in [(-1, 0), (1, 0), (0, 1), (0, -1)]:\n",
    "        new_pos = (current_pos[0] + dir[0], current_pos[1] + dir[1])\n",
    "        summit_pos |= explore(new_pos, current_value)\n",
    "    return summit_pos\n",
    "\n",
    "s = 0\n",
    "for startpos in allpos[0]:\n",
    "    all_reachable_summits = explore(startpos, -1)\n",
    "    s += len(all_reachable_summits)\n",
    "print(s)\n",
    "\n",
    "# Part two\n",
    "def explore2(current_pos, last_value):\n",
    "    if current_pos not in allpos[last_value + 1]:\n",
    "        return 0\n",
    "    current_value = last_value + 1\n",
    "    if current_value == 9:\n",
    "        # Summit reached!\n",
    "        return 1\n",
    "    n_trails = 0\n",
    "    for dir in [(-1, 0), (1, 0), (0, 1), (0, -1)]:\n",
    "        new_pos = (current_pos[0] + dir[0], current_pos[1] + dir[1])\n",
    "        n_trails += explore2(new_pos, current_value)\n",
    "    return n_trails\n",
    "\n",
    "s = 0\n",
    "for startpos in allpos[0]:\n",
    "    s += explore2(startpos, -1)\n",
    "print(s)"
   ]
  },
  {
   "cell_type": "code",
   "execution_count": 11,
   "id": "3ae3b986-167e-4c59-93f3-8fa1aadfb1d0",
   "metadata": {},
   "outputs": [
    {
     "name": "stdout",
     "output_type": "stream",
     "text": [
      "199946\n",
      "237994815702032\n"
     ]
    }
   ],
   "source": [
    "# Day 11\n",
    "# Part one\n",
    "\n",
    "with open('day11.txt', 'r') as fid:\n",
    "    stones = list(map(int, fid.read().strip().split()))\n",
    "\n",
    "cache_dict = {}\n",
    "\n",
    "def find_number_of_stones(num, level, maxlevel):\n",
    "    if level == maxlevel:\n",
    "        return 1\n",
    "    key = (num, level, maxlevel)\n",
    "    if key in cache_dict:\n",
    "        return cache_dict[key]\n",
    "    \n",
    "    level += 1\n",
    "    if num == 0:\n",
    "        res = find_number_of_stones(1, level, maxlevel)\n",
    "        cache_dict[key] = res\n",
    "        return res\n",
    "    n = len(str(num))\n",
    "    if n % 2:\n",
    "        res = find_number_of_stones(2024 * num, level, maxlevel)\n",
    "        cache_dict[key] = res\n",
    "        return res\n",
    "    else:\n",
    "        N = 10**(n//2)\n",
    "        int1 = num//N\n",
    "        int2 = num % N\n",
    "        res = (find_number_of_stones(int1, level, maxlevel) + \n",
    "               find_number_of_stones(int2, level, maxlevel))\n",
    "        cache_dict[key] = res\n",
    "        return res\n",
    "\n",
    "print(sum(find_number_of_stones(intj, 0, 25) for intj in stones))\n",
    "\n",
    "# Part two\n",
    "print(sum(find_number_of_stones(intj, 0, 75) for intj in stones))"
   ]
  },
  {
   "cell_type": "code",
   "execution_count": 12,
   "id": "208ec564-0fde-4fa5-a7c6-f9424f535a86",
   "metadata": {},
   "outputs": [
    {
     "name": "stdout",
     "output_type": "stream",
     "text": [
      "1488414\n",
      "911750\n"
     ]
    }
   ],
   "source": [
    "# Day 12\n",
    "# Part one\n",
    "allcrops = {}\n",
    "with open('day12.txt', 'r') as fid:\n",
    "    lines = fid.read().strip().split('\\n')\n",
    "    Ncol, Nrow = len(lines[0]), len(lines)\n",
    "    for row, line in enumerate(lines):\n",
    "        for col, crop in enumerate(line):\n",
    "            allcrops[(row, col)] = crop\n",
    "\n",
    "def get_field_at_pos(pos):\n",
    "    crop = allcrops[pos]\n",
    "    visited = set()\n",
    "    to_explore = [pos]\n",
    "    while len(to_explore) > 0:\n",
    "        pos = to_explore.pop()\n",
    "        visited.add(pos)\n",
    "        for dir in [(1, 0), (-1, 0), (0, 1), (0, -1)]:\n",
    "            newpos = (pos[0] + dir[0], pos[1] + dir[1])\n",
    "            if newpos in visited or newpos not in allcrops or allcrops[newpos] != crop:\n",
    "                continue\n",
    "            to_explore.append(newpos)\n",
    "    return visited\n",
    "\n",
    "allkeys = set(allcrops.keys())\n",
    "fields = []\n",
    "while len(allkeys):\n",
    "    pos = allkeys.pop()\n",
    "    f = get_field_at_pos(pos)\n",
    "    allkeys -= f\n",
    "    fields.append(f)\n",
    "\n",
    "def get_border_count(pos):\n",
    "    count = 0\n",
    "    crop = allcrops[pos]\n",
    "    for dir in [(1, 0), (-1, 0), (0, 1), (0, -1)]:\n",
    "        newpos = (pos[0] + dir[0], pos[1] + dir[1])\n",
    "        if newpos not in allcrops or allcrops[newpos] != crop:\n",
    "            count += 1\n",
    "    return count\n",
    "\n",
    "s = 0\n",
    "for field in fields:\n",
    "    s += len(field)*sum(get_border_count(pos) for pos in field)\n",
    "print(s)\n",
    "\n",
    "# Part two\n",
    "def get_corner_count(pos):\n",
    "    count = 0\n",
    "    crop = allcrops[pos]\n",
    "    dirs = [(1, 0), (0, -1), (-1, 0), (0, 1)]\n",
    "    for index, dir1 in enumerate(dirs):\n",
    "        dir2 = dirs[index - 1]\n",
    "        p1 = (pos[0] + dir1[0], pos[1] + dir1[1])\n",
    "        p2 = (pos[0] + dir2[0], pos[1] + dir2[1])\n",
    "        if ((p1 not in allcrops or allcrops[p1] != crop) and\n",
    "            (p2 not in allcrops or allcrops[p2] != crop)):\n",
    "            count += 1\n",
    "            #print(f'Corner at {pos}')\n",
    "        px = (pos[0] + dir1[0] + dir2[0], pos[1] + dir1[1] + dir2[1])\n",
    "        if ((p1 not in allcrops or allcrops[p1] == crop) and\n",
    "            (p2 not in allcrops or allcrops[p2] == crop) and\n",
    "            (px in allcrops and allcrops[px] != crop)):\n",
    "            count += 1\n",
    "            #print(f'Inner corner at {pos}')\n",
    "    return count\n",
    "\n",
    "s = 0\n",
    "for field in fields:\n",
    "    s += len(field)*sum(get_corner_count(pos) for pos in field)\n",
    "print(s)"
   ]
  },
  {
   "cell_type": "code",
   "execution_count": 13,
   "id": "f5fa318a-5a2b-47bd-b363-c59a666ce210",
   "metadata": {},
   "outputs": [
    {
     "name": "stdout",
     "output_type": "stream",
     "text": [
      "28262\n",
      "101406661266314\n"
     ]
    }
   ],
   "source": [
    "# Day 13\n",
    "# Part one\n",
    "with open('day13.txt', 'r') as fid:\n",
    "    configs = fid.read().strip().split('\\n\\n')\n",
    "\n",
    "def get_XY_from_button(button):\n",
    "    tmp = button.strip().split()\n",
    "    return int(tmp[2][1:-1]), int(tmp[3][1:])\n",
    "\n",
    "def get_XY_from_prize(button):\n",
    "    tmp = button.strip().split()\n",
    "    return int(tmp[1][2:-1]), int(tmp[2][2:])\n",
    "\n",
    "all_games = []\n",
    "for config in configs:\n",
    "    A, B, P = config.split('\\n')\n",
    "    all_games.append([get_XY_from_button(A), get_XY_from_button(B), get_XY_from_prize(P)])\n",
    "\n",
    "def get_cost_from_game(game, maxpress=100):\n",
    "    (x1, y1), (x2, y2), (xg, yg) = game\n",
    "    m, rem1 = divmod(x1*yg - xg*y1, x1*y2 - x2*y1)\n",
    "    n, rem2 = divmod(xg - m*x2, x1)\n",
    "    if rem1 == 0 and rem2 == 0 and 0 <= m <= maxpress and 0 <= n <= maxpress:\n",
    "        return 3*n + m\n",
    "    else:\n",
    "        return 0\n",
    "\n",
    "print(sum(get_cost_from_game(game) for game in all_games))\n",
    "\n",
    "# Part two\n",
    "def get_cost_from_game2(game):\n",
    "    (x1, y1), (x2, y2), (xg, yg) = game\n",
    "    mult = 10_000_000_000_000\n",
    "    xg += mult\n",
    "    yg += mult\n",
    "    m, rem1 = divmod(x1*yg - xg*y1, x1*y2 - x2*y1)\n",
    "    n, rem2 = divmod(xg - m*x2, x1)\n",
    "    if rem1 == 0 and rem2 == 0 and 0 <= m and 0 <= n:\n",
    "        return 3*n + m\n",
    "    else:\n",
    "        return 0\n",
    "\n",
    "print(sum(get_cost_from_game2(game) for game in all_games))"
   ]
  },
  {
   "cell_type": "code",
   "execution_count": 149,
   "id": "1e602c1f-0cad-4cfa-8745-4b82c69edbc0",
   "metadata": {},
   "outputs": [
    {
     "name": "stdout",
     "output_type": "stream",
     "text": [
      "211773366\n",
      "7344\n"
     ]
    },
    {
     "data": {
      "text/plain": [
       "<matplotlib.image.AxesImage at 0x3320f0cb0>"
      ]
     },
     "execution_count": 149,
     "metadata": {},
     "output_type": "execute_result"
    },
    {
     "data": {
      "image/png": "[encoded data removed]",
      "text/plain": [
       "<Figure size 640x480 with 1 Axes>"
      ]
     },
     "metadata": {},
     "output_type": "display_data"
    }
   ],
   "source": [
    "# Day 14\n",
    "# Part one\n",
    "data = []\n",
    "with open('day14.txt') as fid:\n",
    "    for line in fid.read().strip().split('\\n'):\n",
    "        tmp1, tmp2 = line.split()\n",
    "        data.append(tuple(map(int, tmp1[2:].split(',') + tmp2[2:].split(','))))\n",
    "\n",
    "def pos_after_time(posvel, time, Lx=101, Ly=103):\n",
    "    x, y, vx, vy = posvel\n",
    "    x += vx*time\n",
    "    y += vy*time\n",
    "    return x % Lx, y % Ly\n",
    "\n",
    "quadrants = [[0, 0], [0,0]]\n",
    "Lx, Ly = 101, 103\n",
    "cx, cy = Lx//2, Ly//2\n",
    "for d in data:\n",
    "    pos = pos_after_time(d, 100, Lx, Ly)\n",
    "    if pos[0] == cx or pos[1] == cy:\n",
    "        continue\n",
    "    quadrants[pos[1] > cy][pos[0] > cx] += 1\n",
    "print(quadrants[0][0]*quadrants[0][1]*quadrants[1][0]*quadrants[1][1])\n",
    "\n",
    "# Part two\n",
    "import matplotlib.pyplot as plt\n",
    "def print_picture(allpos, Lx, Ly):\n",
    "    Z = np.zeros((Ly, Lx))\n",
    "    for pos in allpos:\n",
    "        Z[pos[1], pos[0]] += 1\n",
    "    plt.figure()\n",
    "    return plt.imshow(Z)\n",
    "\n",
    "def compute_connected(pos, visited, allpos):\n",
    "    visited.add(pos)\n",
    "    for dx in range(-1, 2):\n",
    "        for dy in range(-1, 2):\n",
    "            adj_pos = (pos[0] + dx, pos[1] + dy)\n",
    "            #print(f'{adj_pos=}, {pos=}, {adj_pos in allpos}, {adj_pos not in visited}')\n",
    "            if adj_pos in allpos and adj_pos not in visited:\n",
    "                #print('???')\n",
    "                compute_connected(adj_pos, visited, allpos)\n",
    "    return visited        \n",
    "                \n",
    "def compute_correlation(pos_set_input):\n",
    "    pos_set = pos_set_input.copy()\n",
    "    output = []\n",
    "    #print(pos_set)\n",
    "    while pos_set:\n",
    "        pos = pos_set.pop()\n",
    "        con = compute_connected(pos, set(), pos_set)\n",
    "        #print(f'{pos=}, {con=}')\n",
    "        pos_set -= con\n",
    "        output.append(len(con))\n",
    "    return output\n",
    "\n",
    "E = []\n",
    "for t in range(10403):\n",
    "    allpos = {pos_after_time(d, t, Lx, Ly) for d in data}\n",
    "    E.append((len(compute_correlation(allpos)), t))\n",
    "\n",
    "t_tree = min(E)[1]\n",
    "print(t_tree)\n",
    "all_pos = {pos_after_time(d, t_tree, Lx, Ly) for d in data}\n",
    "print_picture(all_pos, Lx, Ly)\n",
    "plt.savef"
   ]
  },
  {
   "cell_type": "code",
   "execution_count": 144,
   "id": "b227a36a-2765-4c4c-bf1a-b227532e9b0d",
   "metadata": {},
   "outputs": [
    {
     "name": "stdout",
     "output_type": "stream",
     "text": [
      "(144, 7344)\n"
     ]
    },
    {
     "data": {
      "text/plain": [
       "[<matplotlib.lines.Line2D at 0x3332b7560>]"
      ]
     },
     "execution_count": 144,
     "metadata": {},
     "output_type": "execute_result"
    },
    {
     "data": {
      "image/png": "[encoded data removed]",
      "text/plain": [
       "<Figure size 640x480 with 1 Axes>"
      ]
     },
     "metadata": {},
     "output_type": "display_data"
    }
   ],
   "source": [
    "def compute_connected(pos, visited, allpos):\n",
    "    visited.add(pos)\n",
    "    for dx in range(-1, 2):\n",
    "        for dy in range(-1, 2):\n",
    "            adj_pos = (pos[0] + dx, pos[1] + dy)\n",
    "            #print(f'{adj_pos=}, {pos=}, {adj_pos in allpos}, {adj_pos not in visited}')\n",
    "            if adj_pos in allpos and adj_pos not in visited:\n",
    "                #print('???')\n",
    "                compute_connected(adj_pos, visited, allpos)\n",
    "    return visited        \n",
    "                \n",
    "def compute_correlation(pos_set_input):\n",
    "    pos_set = pos_set_input.copy()\n",
    "    output = []\n",
    "    #print(pos_set)\n",
    "    while pos_set:\n",
    "        pos = pos_set.pop()\n",
    "        con = compute_connected(pos, set(), pos_set)\n",
    "        #print(f'{pos=}, {con=}')\n",
    "        pos_set -= con\n",
    "        output.append(len(con))\n",
    "    return output\n",
    "\n",
    "E = []\n",
    "for t in range(10403):\n",
    "    allpos = {pos_after_time(d, t, Lx, Ly) for d in data}\n",
    "    E.append((len(compute_correlation(allpos)), t))\n",
    "\n",
    "print(min(E))\n"
   ]
  },
  {
   "cell_type": "code",
   "execution_count": 91,
   "id": "00c5063b-4c48-4def-8ad9-43ded1fdcfe0",
   "metadata": {},
   "outputs": [
    {
     "data": {
      "image/png": "[encoded data removed]",
      "text/plain": [
       "<Figure size 640x480 with 1 Axes>"
      ]
     },
     "metadata": {},
     "output_type": "display_data"
    },
    {
     "data": {
      "image/png": "[encoded data removed]",
      "text/plain": [
       "<Figure size 640x480 with 1 Axes>"
      ]
     },
     "metadata": {},
     "output_type": "display_data"
    }
   ],
   "source": [
    "import matplotlib.pyplot as plt\n",
    "def print_picture2(allpos, Lx, Ly):\n",
    "    Z = np.zeros((Ly, Lx))\n",
    "    for pos in allpos:\n",
    "        Z[pos[1], pos[0]] += 1\n",
    "    plt.figure()\n",
    "    return plt.imshow(Z)\n",
    "\n",
    "for t in range(10403):\n",
    "    left_pos = set()\n",
    "    rght_pos = set()\n",
    "    cntr_pos = set()\n",
    "    for d in data:\n",
    "        pos = pos_after_time(d, t, Lx, Ly)\n",
    "        if pos[0] < cx:\n",
    "            left_pos.add(pos)\n",
    "        elif pos[0] > cx:\n",
    "            rght_pos.add(pos)\n",
    "        else:\n",
    "            cntr_pos.add(pos)\n",
    "    if abs(len(left_pos) - len(rght_pos)) < 180:\n",
    "        is_symmetric = 180\n",
    "        for l in left_pos:\n",
    "            sympos = (Lx - l[0] - 1, l[1])\n",
    "            if sympos not in rght_pos:\n",
    "                is_symmetric -= 1\n",
    "        if is_symmetric > 0:\n",
    "            print_picture2(left_pos | rght_pos | cntr_pos, Lx, Ly)\n"
   ]
  },
  {
   "cell_type": "code",
   "execution_count": 80,
   "id": "d70bbe86-f437-4d9f-ac71-3cc8d84bbe3a",
   "metadata": {},
   "outputs": [
    {
     "name": "stdout",
     "output_type": "stream",
     "text": [
      "[10403, 10403, 10403, 10403, 10403, 10403, 10403, 10403, 10403, 10403, 10403, 10403, 10403, 10403, 10403, 10403, 10403, 10403, 10403, 10403, 10403, 10403, 10403, 10403, 10403, 10403, 10403, 10403, 10403, 10403, 10403, 10403, 10403, 10403, 10403, 10403, 10403, 10403, 10403, 10403, 10403, 10403, 10403, 10403, 10403, 10403, 10403, 10403, 10403, 10403, 10403, 10403, 10403, 10403, 10403, 10403, 10403, 10403, 10403, 10403, 10403, 10403, 10403, 10403, 10403, 10403, 10403, 10403, 10403, 10403, 10403, 10403, 10403, 10403, 10403, 10403, 10403, 10403, 10403, 10403, 10403, 10403, 10403, 10403, 10403, 10403, 10403, 10403, 10403, 10403, 10403, 10403, 10403, 10403, 10403, 10403, 10403, 10403, 10403, 10403, 10403, 10403, 10403, 10403, 10403, 10403, 10403, 10403, 10403, 10403, 10403, 10403, 10403, 10403, 10403, 10403, 10403, 10403, 10403, 10403, 10403, 10403, 10403, 10403, 10403, 10403, 10403, 10403, 10403, 10403, 10403, 10403, 10403, 10403, 10403, 10403, 10403, 10403, 10403, 10403, 10403, 10403, 10403, 10403, 10403, 10403, 10403, 10403, 10403, 10403, 10403, 10403, 10403, 10403, 10403, 10403, 10403, 10403, 10403, 10403, 10403, 10403, 10403, 10403, 10403, 10403, 10403, 10403, 10403, 10403, 10403, 10403, 10403, 10403, 10403, 10403, 10403, 10403, 10403, 10403, 10403, 10403, 10403, 10403, 10403, 10403, 10403, 10403, 10403, 10403, 10403, 10403, 10403, 10403, 10403, 10403, 10403, 10403, 10403, 10403, 10403, 10403, 10403, 10403, 10403, 10403, 10403, 10403, 10403, 10403, 10403, 10403, 10403, 10403, 10403, 10403, 10403, 10403, 10403, 10403, 10403, 10403, 10403, 10403, 10403, 10403, 10403, 10403, 10403, 10403, 10403, 10403, 10403, 10403, 10403, 10403, 10403, 10403, 10403, 10403, 10403, 10403, 10403, 10403, 10403, 10403, 10403, 10403, 10403, 10403, 10403, 10403, 10403, 10403, 10403, 10403, 10403, 10403, 10403, 10403, 10403, 10403, 10403, 10403, 10403, 10403, 10403, 10403, 10403, 10403, 10403, 10403, 10403, 10403, 10403, 10403, 10403, 10403, 10403, 10403, 10403, 10403, 10403, 10403, 10403, 10403, 10403, 10403, 10403, 10403, 10403, 10403, 10403, 10403, 10403, 10403, 10403, 10403, 10403, 10403, 10403, 10403, 10403, 10403, 10403, 10403, 10403, 10403, 10403, 10403, 10403, 10403, 10403, 10403, 10403, 10403, 10403, 10403, 10403, 10403, 10403, 10403, 10403, 10403, 10403, 10403, 10403, 10403, 10403, 10403, 10403, 10403, 10403, 10403, 10403, 10403, 10403, 10403, 10403, 10403, 10403, 10403, 10403, 10403, 10403, 10403, 10403, 10403, 10403, 10403, 10403, 10403, 10403, 10403, 10403, 10403, 10403, 10403, 10403, 10403, 10403, 10403, 10403, 10403, 10403, 10403, 10403, 10403, 10403, 10403, 10403, 10403, 10403, 10403, 10403, 10403, 10403, 10403, 10403, 10403, 10403, 10403, 10403, 10403, 10403, 10403, 10403, 10403, 10403, 10403, 10403, 10403, 10403, 10403, 10403, 10403, 10403, 10403, 10403, 10403, 10403, 10403, 10403, 10403, 10403, 10403, 10403, 10403, 10403, 10403, 10403, 10403, 10403, 10403, 10403, 10403, 10403, 10403, 10403, 10403, 10403, 10403, 10403, 10403, 10403, 10403, 10403, 10403, 10403, 10403, 10403, 10403, 10403, 10403, 10403, 10403, 10403, 10403, 10403, 10403, 10403, 10403, 10403, 10403, 10403, 10403, 10403, 10403, 10403, 10403, 10403, 10403, 10403, 10403, 10403, 10403, 10403, 10403, 10403, 10403, 10403, 10403, 10403, 10403, 10403, 10403, 10403, 10403, 10403, 10403, 10403, 10403, 10403, 10403, 10403, 10403, 10403, 10403, 10403, 10403, 10403, 10403, 10403, 10403, 10403, 10403, 10403, 10403, 10403, 10403, 10403, 10403, 10403, 10403, 10403, 10403, 10403, 10403, 10403, 10403]\n"
     ]
    }
   ],
   "source": [
    "from collections import defaultdict\n",
    "import math\n",
    "reclab = {}\n",
    "for d in data:\n",
    "    tmp = {}\n",
    "    for t in range(1, 1000000):\n",
    "        pos = pos_after_time(d, t, Lx, Ly)\n",
    "        if pos in tmp:\n",
    "            break\n",
    "        tmp[pos] = t\n",
    "    reclab[d] = tmp\n",
    "\n",
    "times = []\n",
    "for d, r in reclab.items():\n",
    "    #print(len(r), r[(cx, cy)])\n",
    "    times.append(r[(d[0], d[1])])\n",
    "\n",
    "math.gcd(34, 56)\n",
    "math.lcm(*[10, 3])\n",
    "math.lcm(*times)\n",
    "print(times)\n",
    "\n",
    "\n",
    "        #print_picture2(left_pos | rght_pos | cntr_pos, Lx, Ly)"
   ]
  },
  {
   "cell_type": "code",
   "execution_count": 141,
   "id": "ae6a5e92-999a-45b2-9406-9e0a6374e486",
   "metadata": {},
   "outputs": [
    {
     "name": "stdout",
     "output_type": "stream",
     "text": [
      "[229, 124, 1, 1, 2, 1, 1, 1, 1, 1, 1, 1, 1, 1, 1, 1, 1, 1, 1, 1, 2, 1, 1, 2, 1, 2, 1, 1, 1, 1, 1, 1, 1, 1, 1, 1, 1, 1, 1, 1, 1, 1, 1, 1, 1, 1, 1, 1, 1, 1, 1, 1, 1, 1, 1, 1, 1, 1, 1, 1, 1, 1, 1, 1, 1, 1, 1, 1, 1, 1, 1, 1, 1, 1, 1, 1, 1, 1, 1, 1, 1, 1, 1, 1, 1, 1, 1, 1, 1, 1, 1, 1, 1, 1, 1, 1, 1, 1, 1, 1, 1, 1, 1, 1, 1, 1, 1, 1, 1, 1, 1, 1, 1, 1, 1, 1, 1, 1, 1, 1, 1, 1, 1, 1, 1, 2, 1, 1, 1, 1, 1, 1, 1, 1, 1, 1, 1, 1, 1, 1, 1, 1, 1, 1]\n"
     ]
    },
    {
     "data": {
      "text/plain": [
       "<matplotlib.image.AxesImage at 0x33270d5b0>"
      ]
     },
     "execution_count": 141,
     "metadata": {},
     "output_type": "execute_result"
    },
    {
     "data": {
      "image/png": "[encoded data removed]",
      "text/plain": [
       "<Figure size 640x480 with 1 Axes>"
      ]
     },
     "metadata": {},
     "output_type": "display_data"
    }
   ],
   "source": [
    "\n",
    "def compute_connected(pos, visited, allpos):\n",
    "    visited.add(pos)\n",
    "    for dx in range(-1, 2):\n",
    "        for dy in range(-1, 2):\n",
    "            adj_pos = (pos[0] + dx, pos[1] + dy)\n",
    "            #print(f'{adj_pos=}, {pos=}, {adj_pos in allpos}, {adj_pos not in visited}')\n",
    "            if adj_pos in allpos and adj_pos not in visited:\n",
    "                #print('???')\n",
    "                compute_connected(adj_pos, visited, allpos)\n",
    "    return visited        \n",
    "                \n",
    "def compute_correlation(pos_set_input):\n",
    "    pos_set = pos_set_input.copy()\n",
    "    output = []\n",
    "    #print(pos_set)\n",
    "    while pos_set:\n",
    "        pos = pos_set.pop()\n",
    "        con = compute_connected(pos, set(), pos_set)\n",
    "        #print(f'{pos=}, {con=}')\n",
    "        pos_set -= con\n",
    "        output.append(len(con))\n",
    "    return output\n",
    "\n",
    "t = 7344\n",
    "allpos = {pos_after_time(d, t, Lx, Ly) for d in data}\n",
    "\n",
    "cc = compute_correlation(allpos)\n",
    "print(cc)\n",
    "\n",
    "print_picture2(allpos, Lx, Ly)\n",
    "#print((59, 40) in allpos)\n",
    "#test = compute_connected((59, 40), set(), allpos)\n",
    "#print(test)\n",
    "#print(allpos)\n",
    "#print((58, 40) in allpos)"
   ]
  },
  {
   "cell_type": "code",
   "execution_count": 98,
   "id": "1daab6dc-915d-40ae-9f6b-8a125acd6c22",
   "metadata": {},
   "outputs": [
    {
     "data": {
      "text/plain": [
       "1"
      ]
     },
     "execution_count": 98,
     "metadata": {},
     "output_type": "execute_result"
    }
   ],
   "source": [
    "a = {1, 3, 4}\n",
    "a.remove("
   ]
  },
  {
   "cell_type": "code",
   "execution_count": null,
   "id": "6ba2885d-56a4-441e-b8e2-de80193f1f45",
   "metadata": {},
   "outputs": [],
   "source": []
  }
 ],
 "metadata": {
  "kernelspec": {
   "display_name": "Python 3 (ipykernel)",
   "language": "python",
   "name": "python3"
  },
  "language_info": {
   "codemirror_mode": {
    "name": "ipython",
    "version": 3
   },
   "file_extension": ".py",
   "mimetype": "text/x-python",
   "name": "python",
   "nbconvert_exporter": "python",
   "pygments_lexer": "ipython3",
   "version": "3.12.4"
  }
 },
 "nbformat": 4,
 "nbformat_minor": 5
}
